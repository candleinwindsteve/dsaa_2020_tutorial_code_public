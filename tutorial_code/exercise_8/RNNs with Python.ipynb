{
 "cells": [
  {
   "cell_type": "code",
   "execution_count": 1,
   "metadata": {},
   "outputs": [
    {
     "name": "stderr",
     "output_type": "stream",
     "text": [
      "Using TensorFlow backend.\n"
     ]
    }
   ],
   "source": [
    "import numpy as np\n",
    "from numpy.lib.stride_tricks import as_strided\n",
    "from keras.models import Sequential\n",
    "from keras.layers import GRU, Dense, Reshape\n",
    "from keras.optimizers import Adam\n",
    "import tqdm\n",
    "import warnings\n",
    "warnings.filterwarnings('ignore')\n",
    "import time\n",
    "\n",
    "import numpy as np\n",
    "import pandas as pd\n",
    "import matplotlib.pyplot as plt"
   ]
  },
  {
   "cell_type": "markdown",
   "metadata": {},
   "source": [
    "# AWS CPU Utilization Dataset"
   ]
  },
  {
   "cell_type": "code",
   "execution_count": 2,
   "metadata": {},
   "outputs": [
    {
     "data": {
      "text/html": [
       "<div>\n",
       "<style scoped>\n",
       "    .dataframe tbody tr th:only-of-type {\n",
       "        vertical-align: middle;\n",
       "    }\n",
       "\n",
       "    .dataframe tbody tr th {\n",
       "        vertical-align: top;\n",
       "    }\n",
       "\n",
       "    .dataframe thead th {\n",
       "        text-align: right;\n",
       "    }\n",
       "</style>\n",
       "<table border=\"1\" class=\"dataframe\">\n",
       "  <thead>\n",
       "    <tr style=\"text-align: right;\">\n",
       "      <th></th>\n",
       "      <th>timestamp</th>\n",
       "      <th>value</th>\n",
       "    </tr>\n",
       "  </thead>\n",
       "  <tbody>\n",
       "    <tr>\n",
       "      <th>0</th>\n",
       "      <td>2014-04-10 00:02:00</td>\n",
       "      <td>14.012</td>\n",
       "    </tr>\n",
       "    <tr>\n",
       "      <th>1</th>\n",
       "      <td>2014-04-10 00:07:00</td>\n",
       "      <td>13.334</td>\n",
       "    </tr>\n",
       "    <tr>\n",
       "      <th>2</th>\n",
       "      <td>2014-04-10 00:12:00</td>\n",
       "      <td>15.000</td>\n",
       "    </tr>\n",
       "    <tr>\n",
       "      <th>3</th>\n",
       "      <td>2014-04-10 00:17:00</td>\n",
       "      <td>13.998</td>\n",
       "    </tr>\n",
       "    <tr>\n",
       "      <th>4</th>\n",
       "      <td>2014-04-10 00:22:00</td>\n",
       "      <td>14.332</td>\n",
       "    </tr>\n",
       "  </tbody>\n",
       "</table>\n",
       "</div>"
      ],
      "text/plain": [
       "             timestamp   value\n",
       "0  2014-04-10 00:02:00  14.012\n",
       "1  2014-04-10 00:07:00  13.334\n",
       "2  2014-04-10 00:12:00  15.000\n",
       "3  2014-04-10 00:17:00  13.998\n",
       "4  2014-04-10 00:22:00  14.332"
      ]
     },
     "execution_count": 2,
     "metadata": {},
     "output_type": "execute_result"
    }
   ],
   "source": [
    "data=pd.read_csv(\"data/rds_cpu_utilization_e47b3b.csv\", header=0)\n",
    "data.head()"
   ]
  },
  {
   "cell_type": "code",
   "execution_count": 3,
   "metadata": {},
   "outputs": [
    {
     "data": {
      "image/png": "[encoded data removed]",
      "text/plain": [
       "<Figure size 432x288 with 1 Axes>"
      ]
     },
     "metadata": {
      "needs_background": "light"
     },
     "output_type": "display_data"
    }
   ],
   "source": [
    "data[\"timestamp\"] = pd.to_datetime(data[\"timestamp\"], \n",
    "                                   format=\"%Y-%m-%d %H:%M:%S\")\n",
    "\n",
    "plt.plot(data[\"timestamp\"],data[\"value\"])\n",
    "plt.xticks(rotation=90)\n",
    "plt.show()"
   ]
  },
  {
   "cell_type": "markdown",
   "metadata": {},
   "source": [
    "## We use the past n_lag time steps to predict n_seq time steps in the future"
   ]
  },
  {
   "cell_type": "code",
   "execution_count": 4,
   "metadata": {},
   "outputs": [],
   "source": [
    "def as_sliding_window(ts, wl):\n",
    "    assert len(ts.shape) == 1\n",
    "    ss = ts.strides[0]\n",
    "    n = ts.shape[0]\n",
    "    return as_strided(ts, shape=[n-wl+1, wl], strides=[ss, ss])\n",
    "\n",
    "\n",
    "def prepare_scalar_timeseries(ts, n_lag, n_seq, split_index, normalize=True):\n",
    "    n_samples = ts.shape[0]\n",
    "    ts_strided = as_sliding_window(ts, n_lag+n_seq)\n",
    "    ts_strided = ts_strided[..., np.newaxis]\n",
    "    X, Y = np.split(ts_strided, [n_lag], axis=1)\n",
    "    if normalize:\n",
    "        X_mean = X.mean(axis=1, keepdims=True)\n",
    "        X_std = X.std(axis=1, keepdims=True)\n",
    "        X = (X - X_mean) / X_std\n",
    "        Y = (Y - X_mean) / X_std\n",
    "    X_train, X_test = np.split(X, [split_index])\n",
    "    Y_train, Y_test = np.split(Y, [split_index])\n",
    "    return (X_train, Y_train), (X_test, Y_test)"
   ]
  },
  {
   "cell_type": "code",
   "execution_count": 5,
   "metadata": {},
   "outputs": [],
   "source": [
    "(X_train, Y_train), (X_test, Y_test) = \\\n",
    "    prepare_scalar_timeseries(ts=data[\"value\"].values, n_lag=3, n_seq=2, split_index=10, normalize=False)"
   ]
  },
  {
   "cell_type": "code",
   "execution_count": 6,
   "metadata": {},
   "outputs": [
    {
     "data": {
      "text/html": [
       "<div>\n",
       "<style scoped>\n",
       "    .dataframe tbody tr th:only-of-type {\n",
       "        vertical-align: middle;\n",
       "    }\n",
       "\n",
       "    .dataframe tbody tr th {\n",
       "        vertical-align: top;\n",
       "    }\n",
       "\n",
       "    .dataframe thead th {\n",
       "        text-align: right;\n",
       "    }\n",
       "</style>\n",
       "<table border=\"1\" class=\"dataframe\">\n",
       "  <thead>\n",
       "    <tr style=\"text-align: right;\">\n",
       "      <th></th>\n",
       "      <th>timestamp</th>\n",
       "      <th>value</th>\n",
       "    </tr>\n",
       "  </thead>\n",
       "  <tbody>\n",
       "    <tr>\n",
       "      <th>0</th>\n",
       "      <td>2014-04-10 00:02:00</td>\n",
       "      <td>14.012</td>\n",
       "    </tr>\n",
       "    <tr>\n",
       "      <th>1</th>\n",
       "      <td>2014-04-10 00:07:00</td>\n",
       "      <td>13.334</td>\n",
       "    </tr>\n",
       "    <tr>\n",
       "      <th>2</th>\n",
       "      <td>2014-04-10 00:12:00</td>\n",
       "      <td>15.000</td>\n",
       "    </tr>\n",
       "    <tr>\n",
       "      <th>3</th>\n",
       "      <td>2014-04-10 00:17:00</td>\n",
       "      <td>13.998</td>\n",
       "    </tr>\n",
       "    <tr>\n",
       "      <th>4</th>\n",
       "      <td>2014-04-10 00:22:00</td>\n",
       "      <td>14.332</td>\n",
       "    </tr>\n",
       "  </tbody>\n",
       "</table>\n",
       "</div>"
      ],
      "text/plain": [
       "            timestamp   value\n",
       "0 2014-04-10 00:02:00  14.012\n",
       "1 2014-04-10 00:07:00  13.334\n",
       "2 2014-04-10 00:12:00  15.000\n",
       "3 2014-04-10 00:17:00  13.998\n",
       "4 2014-04-10 00:22:00  14.332"
      ]
     },
     "execution_count": 6,
     "metadata": {},
     "output_type": "execute_result"
    }
   ],
   "source": [
    "data.head()"
   ]
  },
  {
   "cell_type": "code",
   "execution_count": 7,
   "metadata": {},
   "outputs": [
    {
     "data": {
      "text/plain": [
       "array([[14.012],\n",
       "       [13.334],\n",
       "       [15.   ]])"
      ]
     },
     "execution_count": 7,
     "metadata": {},
     "output_type": "execute_result"
    }
   ],
   "source": [
    "X_train[0]"
   ]
  },
  {
   "cell_type": "code",
   "execution_count": 8,
   "metadata": {},
   "outputs": [
    {
     "data": {
      "text/plain": [
       "array([[13.998],\n",
       "       [14.332]])"
      ]
     },
     "execution_count": 8,
     "metadata": {},
     "output_type": "execute_result"
    }
   ],
   "source": [
    "Y_train[0]"
   ]
  },
  {
   "cell_type": "code",
   "execution_count": 9,
   "metadata": {},
   "outputs": [
    {
     "data": {
      "text/html": [
       "<div>\n",
       "<style scoped>\n",
       "    .dataframe tbody tr th:only-of-type {\n",
       "        vertical-align: middle;\n",
       "    }\n",
       "\n",
       "    .dataframe tbody tr th {\n",
       "        vertical-align: top;\n",
       "    }\n",
       "\n",
       "    .dataframe thead th {\n",
       "        text-align: right;\n",
       "    }\n",
       "</style>\n",
       "<table border=\"1\" class=\"dataframe\">\n",
       "  <thead>\n",
       "    <tr style=\"text-align: right;\">\n",
       "      <th></th>\n",
       "      <th>timestamp</th>\n",
       "      <th>value</th>\n",
       "    </tr>\n",
       "  </thead>\n",
       "  <tbody>\n",
       "    <tr>\n",
       "      <th>10</th>\n",
       "      <td>2014-04-10 00:52:00</td>\n",
       "      <td>13.334</td>\n",
       "    </tr>\n",
       "    <tr>\n",
       "      <th>11</th>\n",
       "      <td>2014-04-10 00:57:00</td>\n",
       "      <td>15.046</td>\n",
       "    </tr>\n",
       "    <tr>\n",
       "      <th>12</th>\n",
       "      <td>2014-04-10 01:02:00</td>\n",
       "      <td>13.332</td>\n",
       "    </tr>\n",
       "    <tr>\n",
       "      <th>13</th>\n",
       "      <td>2014-04-10 01:07:00</td>\n",
       "      <td>15.000</td>\n",
       "    </tr>\n",
       "    <tr>\n",
       "      <th>14</th>\n",
       "      <td>2014-04-10 01:12:00</td>\n",
       "      <td>15.000</td>\n",
       "    </tr>\n",
       "  </tbody>\n",
       "</table>\n",
       "</div>"
      ],
      "text/plain": [
       "             timestamp   value\n",
       "10 2014-04-10 00:52:00  13.334\n",
       "11 2014-04-10 00:57:00  15.046\n",
       "12 2014-04-10 01:02:00  13.332\n",
       "13 2014-04-10 01:07:00  15.000\n",
       "14 2014-04-10 01:12:00  15.000"
      ]
     },
     "execution_count": 9,
     "metadata": {},
     "output_type": "execute_result"
    }
   ],
   "source": [
    "data[10:].head()"
   ]
  },
  {
   "cell_type": "code",
   "execution_count": 10,
   "metadata": {},
   "outputs": [
    {
     "data": {
      "text/plain": [
       "array([[13.334],\n",
       "       [15.046],\n",
       "       [13.332]])"
      ]
     },
     "execution_count": 10,
     "metadata": {},
     "output_type": "execute_result"
    }
   ],
   "source": [
    "X_test[0]"
   ]
  },
  {
   "cell_type": "code",
   "execution_count": 11,
   "metadata": {},
   "outputs": [
    {
     "data": {
      "text/plain": [
       "array([[15.],\n",
       "       [15.]])"
      ]
     },
     "execution_count": 11,
     "metadata": {},
     "output_type": "execute_result"
    }
   ],
   "source": [
    "Y_test[0]"
   ]
  },
  {
   "cell_type": "markdown",
   "metadata": {},
   "source": [
    "## Getting the unnormalized anomaly scores"
   ]
  },
  {
   "cell_type": "code",
   "execution_count": 12,
   "metadata": {},
   "outputs": [],
   "source": [
    "def saurav_anomaly_score(y_true, y_predicted):\n",
    "    l = y_true.shape[1]  # l-step prediction\n",
    "    d = len(y_true.shape)\n",
    "    a = np.square(y_true - y_predicted).sum(axis=tuple(range(1,d))) / l\n",
    "    return a"
   ]
  },
  {
   "cell_type": "markdown",
   "metadata": {},
   "source": [
    "# Define the RNN"
   ]
  },
  {
   "cell_type": "code",
   "execution_count": 13,
   "metadata": {},
   "outputs": [],
   "source": [
    "def fit_rnn(train, n_lag, n_seq, n_batch, nb_epoch, n_neurons):\n",
    "    \"\"\"Train a multi-step RNN\"\"\"\n",
    "    # design network\n",
    "    x, y = train\n",
    "    model = Sequential()\n",
    "    # L = 1,2,3 dropout is .2 and learning rate is .0005 and number of cells in each layer is n_neurons\n",
    "    model.add(GRU(n_neurons, input_shape=(x.shape[1], x.shape[2]), dropout=0.2, stateful=False, return_sequences=True))\n",
    "    model.add(GRU(n_neurons, dropout=0.2, stateful=False, return_sequences=True))\n",
    "    model.add(GRU(n_neurons, dropout=0.2, stateful=False))\n",
    "    model.add(Dense(y.shape[1]*y.shape[2]))\n",
    "    model.add(Reshape([y.shape[1], y.shape[2]]))\n",
    "    # sgd = optimizers.SGD(lr=0.0005, decay=1e-6, momentum=0.9, nesterov=True)\n",
    "    adam = Adam(lr=0.0005, beta_1=.5)\n",
    "    model.compile(loss='mean_squared_error', optimizer=adam)\n",
    "    model.summary()\n",
    "    # fit network\n",
    "    model.fit(x, y, epochs=nb_epoch, batch_size=n_batch, verbose=1, shuffle=False)\n",
    "    return model"
   ]
  },
  {
   "cell_type": "code",
   "execution_count": 14,
   "metadata": {},
   "outputs": [],
   "source": [
    "def rnn(ts, n_lag, n_seq, n_test, n_epochs, n_batch, n_neurons, training_index, local_normalization=True):\n",
    "        \"\"\"\n",
    "        Input:\n",
    "\n",
    "        n_lag = number of observations as input\n",
    "\n",
    "        n_seq = number of observations as output\n",
    "\n",
    "        n_test = the last n_test time steps form the test set\n",
    "\n",
    "        n_epochs = number of epochs\n",
    "\n",
    "        n_batch = batch size\n",
    "\n",
    "        n_neurons = number of cells in each layer\n",
    "\n",
    "        training_index = to separate training set from rest of set for determining anomaly scores\n",
    "\n",
    "        local_normalization = Standardize x(t) and y(t) using mean and std of x(t)\n",
    "        \"\"\"\n",
    "        \n",
    "        start = time.time()\n",
    "\n",
    "        (X_train, Y_train), (X_test, Y_test) = \\\n",
    "            prepare_scalar_timeseries(ts, n_lag, n_seq, training_index, normalize=local_normalization)\n",
    "\n",
    "        model = fit_rnn((X_train, Y_train), n_lag, n_seq, n_batch, n_epochs, n_neurons)\n",
    "       \n",
    "        predictions = np.zeros((len(X_train)+len(X_test), n_seq, 1))\n",
    "        predictions[:training_index] = model.predict(X_train)\n",
    "\n",
    "        with tqdm.tqdm(total=len(X_test)) as t:\n",
    "            for i, (x, y) in enumerate(zip(X_test, Y_test)):\n",
    "                predictions[training_index+i] = model.predict_on_batch(x[np.newaxis])\n",
    "                model.train_on_batch(x[np.newaxis], y[np.newaxis])\n",
    "                t.update()\n",
    "\n",
    "        raw_anomaly_scores = np.zeros(len(predictions))\n",
    "        raw_anomaly_scores[:training_index] = saurav_anomaly_score(Y_train, predictions[:training_index])\n",
    "        raw_anomaly_scores[training_index:] = saurav_anomaly_score(Y_test, predictions[training_index:])\n",
    "\n",
    "        predictions_index = np.arange(len(predictions))+n_lag+n_seq-1\n",
    "        predictions = pd.DataFrame(predictions.squeeze(2), index=predictions_index)\n",
    "\n",
    "        error_anomaly_scores_series = pd.Series(raw_anomaly_scores, index=predictions_index, name='Raw Anomaly Score')\n",
    "\n",
    "        padded_error_anomaly_scores_y_values = np.append(np.zeros(n_lag+n_seq-1), raw_anomaly_scores).tolist()\n",
    "\n",
    "        end = time.time()\n",
    "        \n",
    "        print(\"Time:\", end - start)\n",
    "        \n",
    "        plt.scatter(error_anomaly_scores_series.index, error_anomaly_scores_series.values)\n",
    "        plt.show()\n",
    "        \n",
    "        return error_anomaly_scores_series"
   ]
  },
  {
   "cell_type": "markdown",
   "metadata": {},
   "source": [
    "## Fit the RNN and get unnormalized anomaly scores"
   ]
  },
  {
   "cell_type": "code",
   "execution_count": 15,
   "metadata": {},
   "outputs": [
    {
     "name": "stdout",
     "output_type": "stream",
     "text": [
      "WARNING:tensorflow:From /home/cfreeman/Documents/NextIT/papersAndConferences/flairs_2019_tutorial/tutorial_code/exercise_9/exercise9venv/lib/python3.6/site-packages/tensorflow/python/framework/op_def_library.py:263: colocate_with (from tensorflow.python.framework.ops) is deprecated and will be removed in a future version.\n",
      "Instructions for updating:\n",
      "Colocations handled automatically by placer.\n",
      "WARNING:tensorflow:From /home/cfreeman/Documents/NextIT/papersAndConferences/flairs_2019_tutorial/tutorial_code/exercise_9/exercise9venv/lib/python3.6/site-packages/keras/backend/tensorflow_backend.py:3445: calling dropout (from tensorflow.python.ops.nn_ops) with keep_prob is deprecated and will be removed in a future version.\n",
      "Instructions for updating:\n",
      "Please use `rate` instead of `keep_prob`. Rate should be set to `rate = 1 - keep_prob`.\n",
      "_________________________________________________________________\n",
      "Layer (type)                 Output Shape              Param #   \n",
      "=================================================================\n",
      "gru_1 (GRU)                  (None, 100, 40)           5040      \n",
      "_________________________________________________________________\n",
      "gru_2 (GRU)                  (None, 100, 40)           9720      \n",
      "_________________________________________________________________\n",
      "gru_3 (GRU)                  (None, 40)                9720      \n",
      "_________________________________________________________________\n",
      "dense_1 (Dense)              (None, 5)                 205       \n",
      "_________________________________________________________________\n",
      "reshape_1 (Reshape)          (None, 5, 1)              0         \n",
      "=================================================================\n",
      "Total params: 24,685\n",
      "Trainable params: 24,685\n",
      "Non-trainable params: 0\n",
      "_________________________________________________________________\n",
      "WARNING:tensorflow:From /home/cfreeman/Documents/NextIT/papersAndConferences/flairs_2019_tutorial/tutorial_code/exercise_9/exercise9venv/lib/python3.6/site-packages/tensorflow/python/ops/math_ops.py:3066: to_int32 (from tensorflow.python.ops.math_ops) is deprecated and will be removed in a future version.\n",
      "Instructions for updating:\n",
      "Use tf.cast instead.\n",
      "Epoch 1/10\n",
      "604/604 [==============================] - 46s 76ms/step - loss: 1.0465\n",
      "Epoch 2/10\n",
      "604/604 [==============================] - 45s 75ms/step - loss: 1.0377\n",
      "Epoch 3/10\n",
      "604/604 [==============================] - 45s 75ms/step - loss: 1.0370\n",
      "Epoch 4/10\n",
      "604/604 [==============================] - 46s 76ms/step - loss: 1.0380\n",
      "Epoch 5/10\n",
      "604/604 [==============================] - 46s 75ms/step - loss: 1.0366\n",
      "Epoch 6/10\n",
      "604/604 [==============================] - 46s 76ms/step - loss: 1.0352\n",
      "Epoch 7/10\n",
      "604/604 [==============================] - 46s 76ms/step - loss: 1.0259\n",
      "Epoch 8/10\n",
      "604/604 [==============================] - 46s 75ms/step - loss: 1.0123\n",
      "Epoch 9/10\n",
      "604/604 [==============================] - 46s 76ms/step - loss: 0.9802\n",
      "Epoch 10/10\n",
      "604/604 [==============================] - 46s 76ms/step - loss: 0.9698\n"
     ]
    },
    {
     "name": "stderr",
     "output_type": "stream",
     "text": [
      "100%|██████████| 3324/3324 [04:45<00:00, 11.62it/s]\n"
     ]
    },
    {
     "name": "stdout",
     "output_type": "stream",
     "text": [
      "Time: 744.4521250724792\n"
     ]
    },
    {
     "data": {
      "image/png": "[encoded data removed]",
      "text/plain": [
       "<Figure size 432x288 with 1 Axes>"
      ]
     },
     "metadata": {
      "needs_background": "light"
     },
     "output_type": "display_data"
    }
   ],
   "source": [
    "error_anomaly_scores_series_1 = rnn(ts=data[\"value\"].values, training_index=int(.15*len(data)),n_lag=100, n_seq=5, n_test=20, n_epochs=10, n_batch=1,n_neurons=40)"
   ]
  },
  {
   "cell_type": "markdown",
   "metadata": {},
   "source": [
    "## Try increasing n_seq"
   ]
  },
  {
   "cell_type": "code",
   "execution_count": 16,
   "metadata": {},
   "outputs": [
    {
     "name": "stdout",
     "output_type": "stream",
     "text": [
      "_________________________________________________________________\n",
      "Layer (type)                 Output Shape              Param #   \n",
      "=================================================================\n",
      "gru_4 (GRU)                  (None, 100, 40)           5040      \n",
      "_________________________________________________________________\n",
      "gru_5 (GRU)                  (None, 100, 40)           9720      \n",
      "_________________________________________________________________\n",
      "gru_6 (GRU)                  (None, 40)                9720      \n",
      "_________________________________________________________________\n",
      "dense_2 (Dense)              (None, 50)                2050      \n",
      "_________________________________________________________________\n",
      "reshape_2 (Reshape)          (None, 50, 1)             0         \n",
      "=================================================================\n",
      "Total params: 26,530\n",
      "Trainable params: 26,530\n",
      "Non-trainable params: 0\n",
      "_________________________________________________________________\n",
      "Epoch 1/10\n",
      "604/604 [==============================] - 47s 78ms/step - loss: 1.0339\n",
      "Epoch 2/10\n",
      "604/604 [==============================] - 45s 75ms/step - loss: 1.0229\n",
      "Epoch 3/10\n",
      "604/604 [==============================] - 46s 76ms/step - loss: 1.0175\n",
      "Epoch 4/10\n",
      "604/604 [==============================] - 46s 76ms/step - loss: 1.0172\n",
      "Epoch 5/10\n",
      "604/604 [==============================] - 46s 76ms/step - loss: 1.0200\n",
      "Epoch 6/10\n",
      "604/604 [==============================] - 46s 76ms/step - loss: 1.0196\n",
      "Epoch 7/10\n",
      "604/604 [==============================] - 46s 76ms/step - loss: 1.0208\n",
      "Epoch 8/10\n",
      "604/604 [==============================] - 46s 76ms/step - loss: 1.0200\n",
      "Epoch 9/10\n",
      "604/604 [==============================] - 46s 76ms/step - loss: 1.0183\n",
      "Epoch 10/10\n",
      "604/604 [==============================] - 46s 76ms/step - loss: 1.0144\n"
     ]
    },
    {
     "name": "stderr",
     "output_type": "stream",
     "text": [
      "100%|██████████| 3279/3279 [04:43<00:00, 11.56it/s]\n"
     ]
    },
    {
     "name": "stdout",
     "output_type": "stream",
     "text": [
      "Time: 744.718282699585\n"
     ]
    },
    {
     "data": {
      "image/png": "[encoded data removed]",
      "text/plain": [
       "<Figure size 432x288 with 1 Axes>"
      ]
     },
     "metadata": {
      "needs_background": "light"
     },
     "output_type": "display_data"
    }
   ],
   "source": [
    "error_anomaly_scores_series_2 = rnn(ts=data[\"value\"].values, training_index=int(.15*len(data)),n_lag=100, n_seq=50, n_test=20, n_epochs=10, n_batch=1,n_neurons=40)"
   ]
  },
  {
   "cell_type": "code",
   "execution_count": 20,
   "metadata": {},
   "outputs": [
    {
     "data": {
      "image/png": "[encoded data removed]",
      "text/plain": [
       "<Figure size 432x288 with 1 Axes>"
      ]
     },
     "metadata": {
      "needs_background": "light"
     },
     "output_type": "display_data"
    }
   ],
   "source": [
    "plt.plot([i for i in range(len(error_anomaly_scores_series_1))],error_anomaly_scores_series_1)\n",
    "plt.xlim([2400,2600])\n",
    "plt.ylim([0,500])\n",
    "plt.show()"
   ]
  },
  {
   "cell_type": "code",
   "execution_count": 21,
   "metadata": {},
   "outputs": [
    {
     "data": {
      "image/png": "[encoded data removed]",
      "text/plain": [
       "<Figure size 432x288 with 1 Axes>"
      ]
     },
     "metadata": {
      "needs_background": "light"
     },
     "output_type": "display_data"
    }
   ],
   "source": [
    "plt.plot([i for i in range(len(error_anomaly_scores_series_2))],error_anomaly_scores_series_2)\n",
    "plt.xlim([2400,2600])\n",
    "plt.ylim([0,500])\n",
    "plt.show()"
   ]
  },
  {
   "cell_type": "markdown",
   "metadata": {},
   "source": [
    "# Tidbits\n",
    "\n",
    "1) Adams optimizer\n",
    "\n",
    "https://arxiv.org/abs/1412.6980\n",
    "\n",
    "2) Paper that this RNN was based off of\n",
    "\n",
    "https://dl-acm-org.libproxy.unm.edu/citation.cfm?id=3152501\n",
    "\n",
    "3) Optimizers to choose from\n",
    "\n",
    "https://keras.io/optimizers/\n",
    "\n",
    "4) GRUs vs LSTMs\n",
    "\n",
    "https://datascience.stackexchange.com/questions/14581/when-to-use-gru-over-lstm"
   ]
  },
  {
   "cell_type": "code",
   "execution_count": null,
   "metadata": {},
   "outputs": [],
   "source": []
  }
 ],
 "metadata": {
  "kernelspec": {
   "display_name": "Python 3",
   "language": "python",
   "name": "python3"
  },
  "language_info": {
   "codemirror_mode": {
    "name": "ipython",
    "version": 3
   },
   "file_extension": ".py",
   "mimetype": "text/x-python",
   "name": "python",
   "nbconvert_exporter": "python",
   "pygments_lexer": "ipython3",
   "version": "3.6.9"
  }
 },
 "nbformat": 4,
 "nbformat_minor": 2
}
