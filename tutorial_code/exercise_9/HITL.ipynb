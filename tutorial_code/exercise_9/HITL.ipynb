{
 "cells": [
  {
   "cell_type": "code",
   "execution_count": 1,
   "metadata": {},
   "outputs": [],
   "source": [
    "import pandas as pd\n",
    "import matplotlib.pyplot as plt\n",
    "import numpy as np\n",
    "import math\n",
    "import warnings\n",
    "warnings.filterwarnings('ignore')"
   ]
  },
  {
   "cell_type": "code",
   "execution_count": 2,
   "metadata": {},
   "outputs": [
    {
     "data": {
      "text/html": [
       "<div>\n",
       "<style scoped>\n",
       "    .dataframe tbody tr th:only-of-type {\n",
       "        vertical-align: middle;\n",
       "    }\n",
       "\n",
       "    .dataframe tbody tr th {\n",
       "        vertical-align: top;\n",
       "    }\n",
       "\n",
       "    .dataframe thead th {\n",
       "        text-align: right;\n",
       "    }\n",
       "</style>\n",
       "<table border=\"1\" class=\"dataframe\">\n",
       "  <thead>\n",
       "    <tr style=\"text-align: right;\">\n",
       "      <th></th>\n",
       "      <th>timestep</th>\n",
       "      <th>timestamp</th>\n",
       "      <th>value</th>\n",
       "      <th>outlier</th>\n",
       "    </tr>\n",
       "  </thead>\n",
       "  <tbody>\n",
       "    <tr>\n",
       "      <th>0</th>\n",
       "      <td>0</td>\n",
       "      <td>2013-07-04 00:00:00</td>\n",
       "      <td>69.880835</td>\n",
       "      <td>0</td>\n",
       "    </tr>\n",
       "    <tr>\n",
       "      <th>1</th>\n",
       "      <td>1</td>\n",
       "      <td>2013-07-04 01:00:00</td>\n",
       "      <td>71.220227</td>\n",
       "      <td>0</td>\n",
       "    </tr>\n",
       "    <tr>\n",
       "      <th>2</th>\n",
       "      <td>2</td>\n",
       "      <td>2013-07-04 02:00:00</td>\n",
       "      <td>70.877805</td>\n",
       "      <td>0</td>\n",
       "    </tr>\n",
       "    <tr>\n",
       "      <th>3</th>\n",
       "      <td>3</td>\n",
       "      <td>2013-07-04 03:00:00</td>\n",
       "      <td>68.959400</td>\n",
       "      <td>0</td>\n",
       "    </tr>\n",
       "    <tr>\n",
       "      <th>4</th>\n",
       "      <td>4</td>\n",
       "      <td>2013-07-04 04:00:00</td>\n",
       "      <td>69.283551</td>\n",
       "      <td>0</td>\n",
       "    </tr>\n",
       "  </tbody>\n",
       "</table>\n",
       "</div>"
      ],
      "text/plain": [
       "   timestep            timestamp      value  outlier\n",
       "0         0  2013-07-04 00:00:00  69.880835        0\n",
       "1         1  2013-07-04 01:00:00  71.220227        0\n",
       "2         2  2013-07-04 02:00:00  70.877805        0\n",
       "3         3  2013-07-04 03:00:00  68.959400        0\n",
       "4         4  2013-07-04 04:00:00  69.283551        0"
      ]
     },
     "execution_count": 2,
     "metadata": {},
     "output_type": "execute_result"
    }
   ],
   "source": [
    "dataset = pd.read_csv(\"data/dataset.csv\")\n",
    "dataset.head()"
   ]
  },
  {
   "cell_type": "code",
   "execution_count": 3,
   "metadata": {},
   "outputs": [
    {
     "data": {
      "text/html": [
       "<div>\n",
       "<style scoped>\n",
       "    .dataframe tbody tr th:only-of-type {\n",
       "        vertical-align: middle;\n",
       "    }\n",
       "\n",
       "    .dataframe tbody tr th {\n",
       "        vertical-align: top;\n",
       "    }\n",
       "\n",
       "    .dataframe thead th {\n",
       "        text-align: right;\n",
       "    }\n",
       "</style>\n",
       "<table border=\"1\" class=\"dataframe\">\n",
       "  <thead>\n",
       "    <tr style=\"text-align: right;\">\n",
       "      <th></th>\n",
       "      <th>timestep</th>\n",
       "      <th>timestamp</th>\n",
       "      <th>value</th>\n",
       "      <th>outlier</th>\n",
       "    </tr>\n",
       "  </thead>\n",
       "  <tbody>\n",
       "    <tr>\n",
       "      <th>4124</th>\n",
       "      <td>4124</td>\n",
       "      <td>2013-12-22 20:00:00</td>\n",
       "      <td>86.204189</td>\n",
       "      <td>1</td>\n",
       "    </tr>\n",
       "    <tr>\n",
       "      <th>6801</th>\n",
       "      <td>6801</td>\n",
       "      <td>2014-04-13 09:00:00</td>\n",
       "      <td>57.458406</td>\n",
       "      <td>1</td>\n",
       "    </tr>\n",
       "  </tbody>\n",
       "</table>\n",
       "</div>"
      ],
      "text/plain": [
       "      timestep            timestamp      value  outlier\n",
       "4124      4124  2013-12-22 20:00:00  86.204189        1\n",
       "6801      6801  2014-04-13 09:00:00  57.458406        1"
      ]
     },
     "execution_count": 3,
     "metadata": {},
     "output_type": "execute_result"
    }
   ],
   "source": [
    "outlier_dataset = dataset.loc[dataset['outlier'] == 1]\n",
    "outlier_dataset"
   ]
  },
  {
   "cell_type": "code",
   "execution_count": 4,
   "metadata": {},
   "outputs": [],
   "source": [
    "import joblib"
   ]
  },
  {
   "cell_type": "code",
   "execution_count": 5,
   "metadata": {},
   "outputs": [],
   "source": [
    "anomaly_scores = joblib.load(\"data/anomaly_scores\")[\"Anomaly Scores\"]\n",
    "\n",
    "threshold = 0.9998\n",
    "predictions = []\n",
    "for i in range(len(anomaly_scores)):\n",
    "    if anomaly_scores[i] >= threshold:\n",
    "        predictions.append(i)"
   ]
  },
  {
   "cell_type": "code",
   "execution_count": 6,
   "metadata": {},
   "outputs": [],
   "source": [
    "predictions_y_values = []\n",
    "for prediction in predictions:\n",
    "    predictions_y_values.append(dataset[\"value\"].values[prediction])"
   ]
  },
  {
   "cell_type": "code",
   "execution_count": 7,
   "metadata": {},
   "outputs": [
    {
     "data": {
      "image/png": "[encoded data removed]",
      "text/plain": [
       "<Figure size 432x288 with 1 Axes>"
      ]
     },
     "metadata": {
      "needs_background": "light"
     },
     "output_type": "display_data"
    }
   ],
   "source": [
    "plt.plot(dataset[\"value\"], color=\"blue\", alpha=1, label=\"Time Series\")\n",
    "plt.scatter(outlier_dataset[\"timestep\"],outlier_dataset[\"value\"], color=\"red\", marker=\"X\", alpha=.5, s=100, zorder=200, label=\"Ground Truths\")\n",
    "plt.scatter(predictions, predictions_y_values, color=\"yellow\", edgecolor='black', alpha=1, zorder=100, label=\"Predictions\")\n",
    "plt.legend()\n",
    "plt.show()"
   ]
  },
  {
   "cell_type": "markdown",
   "metadata": {},
   "source": [
    "# Concept One"
   ]
  },
  {
   "cell_type": "code",
   "execution_count": 8,
   "metadata": {},
   "outputs": [],
   "source": [
    "from scipy.special import erf\n",
    "\n",
    "def make_weights(ts_affected):\n",
    "    xs = list(np.linspace(0, 3, num=ts_affected))\n",
    "    ys=[]\n",
    "    for item in xs:\n",
    "        ys.append(erf(item))\n",
    "    return ys"
   ]
  },
  {
   "cell_type": "code",
   "execution_count": 9,
   "metadata": {},
   "outputs": [],
   "source": [
    "# CONCEPT ONE ONLY\n",
    "\n",
    "def hitl_anomaly(detections, anomaly_scores, threshold, ts_affected):\n",
    "    reduced_detections = []\n",
    "    while detections:\n",
    "        reduced_detections.append(detections[0])\n",
    "        weights = make_weights(ts_affected)\n",
    "        weight_index = 0\n",
    "        for i in range(detections[0]+1, detections[0] + len(weights)):\n",
    "            anomaly_scores[i] = anomaly_scores[i] * weights[weight_index]\n",
    "            weight_index += 1   \n",
    "        # update detections\n",
    "        new_detections = []\n",
    "        for k in range(detections[0] + 1,len(anomaly_scores)):\n",
    "            if anomaly_scores[k] >= threshold:\n",
    "                new_detections.append(k)\n",
    "        detections = new_detections\n",
    "        if len(anomaly_scores) - detections[0] < ts_affected:\n",
    "            break\n",
    "    return reduced_detections"
   ]
  },
  {
   "cell_type": "code",
   "execution_count": 10,
   "metadata": {},
   "outputs": [],
   "source": [
    "reduced_detections = hitl_anomaly(predictions, anomaly_scores,  0.9998, int(.02 * len(anomaly_scores)))"
   ]
  },
  {
   "cell_type": "code",
   "execution_count": 11,
   "metadata": {},
   "outputs": [
    {
     "data": {
      "text/plain": [
       "119"
      ]
     },
     "execution_count": 11,
     "metadata": {},
     "output_type": "execute_result"
    }
   ],
   "source": [
    "len(predictions)"
   ]
  },
  {
   "cell_type": "code",
   "execution_count": 12,
   "metadata": {},
   "outputs": [
    {
     "data": {
      "text/plain": [
       "10"
      ]
     },
     "execution_count": 12,
     "metadata": {},
     "output_type": "execute_result"
    }
   ],
   "source": [
    "len(reduced_detections)"
   ]
  },
  {
   "cell_type": "code",
   "execution_count": 13,
   "metadata": {},
   "outputs": [],
   "source": [
    "reduced_detections_y_values = []\n",
    "for prediction in reduced_detections:\n",
    "    reduced_detections_y_values.append(dataset[\"value\"].values[prediction])"
   ]
  },
  {
   "cell_type": "code",
   "execution_count": 14,
   "metadata": {},
   "outputs": [
    {
     "data": {
      "image/png": "[encoded data removed]",
      "text/plain": [
       "<Figure size 432x288 with 1 Axes>"
      ]
     },
     "metadata": {
      "needs_background": "light"
     },
     "output_type": "display_data"
    }
   ],
   "source": [
    "plt.plot(dataset[\"value\"], color=\"blue\", alpha=1, label=\"Time Series\")\n",
    "plt.scatter(outlier_dataset[\"timestep\"],outlier_dataset[\"value\"], color=\"red\", marker=\"X\", alpha=.5, s=100, zorder=200, label=\"Ground Truths\")\n",
    "plt.scatter(reduced_detections, reduced_detections_y_values, color=\"yellow\", edgecolor='black', alpha=1, zorder=100, label=\"Concept 1 Predictions\")\n",
    "plt.legend()\n",
    "plt.show()"
   ]
  },
  {
   "cell_type": "markdown",
   "metadata": {},
   "source": [
    "# Concept Two"
   ]
  },
  {
   "cell_type": "code",
   "execution_count": 15,
   "metadata": {},
   "outputs": [],
   "source": [
    "import math\n",
    "\n",
    "def disagree_weight(x,k,b):\n",
    "   return 1 / (1 + math.exp(-k*x+b))"
   ]
  },
  {
   "cell_type": "code",
   "execution_count": 16,
   "metadata": {},
   "outputs": [],
   "source": [
    "import mass_ts as mts\n",
    "\n",
    "# CONCEPT TWO ONLY\n",
    "\n",
    "n_jobs = 4\n",
    "def hitl_anomaly(ts, detections, anomaly_scores, threshold, ts_affected, top_j, min_weight, acceptance_range, gts=\"unknown\"):\n",
    "    reduced_detections = []\n",
    "    while detections:\n",
    "        reduced_detections.append(detections[0])\n",
    "        if gts == \"unknown\":\n",
    "            print(\"\\n\\nLOOKING AT DETECTION AT INDEX: \", detections[0])\n",
    "            answer = input(\"Do you agree with this predicted anomaly? y or n: \")\n",
    "            print(\"Your Answer: \", answer)\n",
    "        else:\n",
    "            answer = \"n\"\n",
    "            for gt in gts:\n",
    "                if abs(detections[0]-gt) < acceptance_range:\n",
    "                    answer = \"y\"\n",
    "                    break\n",
    "        if answer == \"n\":\n",
    "            if detections[0] - ts_affected > 0:\n",
    "                # create the query for mass by creating a subsequence around this \n",
    "                # detection of size ts_affected\n",
    "                # the detection is in the CENTER of the subsequence\n",
    "                query = ts[detections[0] - int(ts_affected/2):detections[0] + int(ts_affected/2)]\n",
    "                if len(query) < ts_affected:\n",
    "                    query = ts[detections[0] - int(ts_affected/2):detections[0] + int(ts_affected/2) + 1]\n",
    "                # now use mass\n",
    "                indices, dists = mts.mass2_batch(ts, query, batch_size=ts_affected,top_matches=top_j,n_jobs=n_jobs)\n",
    "                # get max distance to use for determining weights\n",
    "                top_discords = mts.top_k_discords(dists, k=2, exclusion_zone=25)\n",
    "                a = np.array(ts[top_discords[0]:top_discords[0]+len(query)])\n",
    "                query_np = np.array(query)\n",
    "                max_dist = np.linalg.norm(a-query_np)\n",
    "                b = math.log((1-min_weight)/min_weight)\n",
    "                k = (math.log(.0001)-b)/-max_dist\n",
    "                for l in range(len(indices)):\n",
    "                    starting_index = indices[l]\n",
    "                    if (starting_index <= detections[0]) and (detections[0] <= starting_index + ts_affected):\n",
    "                        continue\n",
    "                    else:\n",
    "                        subseq_distance = float(dists[l]) \n",
    "                        for i in range(starting_index, starting_index + ts_affected):\n",
    "                            anomaly_scores[i] = anomaly_scores[i] * disagree_weight(subseq_distance, k, b)\n",
    "            # if the detection is either too early or too late in the timeseries to form a full subsequence\n",
    "            # skip this step\n",
    "            else:\n",
    "                pass\n",
    "        if answer == \"y\":\n",
    "            pass\n",
    "        # update detections\n",
    "        new_detections = []\n",
    "        for k in range(detections[0] + 1,len(anomaly_scores)):\n",
    "            if anomaly_scores[k] >= threshold:\n",
    "                new_detections.append(k)\n",
    "        detections = new_detections\n",
    "        if not detections:\n",
    "            break\n",
    "        if len(anomaly_scores) - detections[0] < ts_affected:\n",
    "            break\n",
    "    return reduced_detections"
   ]
  },
  {
   "cell_type": "code",
   "execution_count": 17,
   "metadata": {},
   "outputs": [],
   "source": [
    "anomaly_scores = joblib.load(\"data/anomaly_scores\")[\"Anomaly Scores\"]\n",
    "\n",
    "reduced_detections = hitl_anomaly(list(dataset[\"value\"]),predictions, anomaly_scores, threshold, int(.02 * len(anomaly_scores)), 3, .95, 25,[4124,6801])"
   ]
  },
  {
   "cell_type": "code",
   "execution_count": 18,
   "metadata": {},
   "outputs": [
    {
     "data": {
      "text/plain": [
       "52"
      ]
     },
     "execution_count": 18,
     "metadata": {},
     "output_type": "execute_result"
    }
   ],
   "source": [
    "len(reduced_detections)"
   ]
  },
  {
   "cell_type": "code",
   "execution_count": 19,
   "metadata": {},
   "outputs": [],
   "source": [
    "reduced_detections_y_values = []\n",
    "for prediction in reduced_detections:\n",
    "    reduced_detections_y_values.append(dataset[\"value\"].values[prediction])"
   ]
  },
  {
   "cell_type": "code",
   "execution_count": 20,
   "metadata": {},
   "outputs": [
    {
     "data": {
      "image/png": "[encoded data removed]",
      "text/plain": [
       "<Figure size 432x288 with 1 Axes>"
      ]
     },
     "metadata": {
      "needs_background": "light"
     },
     "output_type": "display_data"
    }
   ],
   "source": [
    "plt.plot(dataset[\"value\"], color=\"blue\", alpha=1, label=\"Time Series\")\n",
    "plt.scatter(outlier_dataset[\"timestep\"],outlier_dataset[\"value\"], color=\"red\", marker=\"X\", alpha=.5, s=100, zorder=200, label=\"Ground Truths\")\n",
    "plt.scatter(reduced_detections, reduced_detections_y_values, color=\"yellow\", edgecolor='black', alpha=1, zorder=100, label=\"Concept 2 Predictions\")\n",
    "plt.legend()\n",
    "plt.show()"
   ]
  },
  {
   "cell_type": "markdown",
   "metadata": {},
   "source": [
    "# Concepts 1 and 2"
   ]
  },
  {
   "cell_type": "code",
   "execution_count": 21,
   "metadata": {},
   "outputs": [],
   "source": [
    "def hitl_anomaly(ts, detections, anomaly_scores, threshold, ts_affected, top_j, min_weight, acceptance_range, gts=\"unknown\"):\n",
    "    reduced_detections = []\n",
    "    weights = make_weights(ts_affected)\n",
    "    while detections:\n",
    "        reduced_detections.append(detections[0])\n",
    "        # anomaly score is slightly punished after a detection to avoid false alarms\n",
    "        weight_index = 0\n",
    "        for i in range(detections[0]+1, detections[0] + 1 + len(weights)):\n",
    "            anomaly_scores[i] = anomaly_scores[i] * weights[weight_index]\n",
    "            weight_index += 1\n",
    "        # HITL portion\n",
    "        if gts == \"unknown\":\n",
    "            print(\"\\n\\nLOOKING AT DETECTION AT INDEX: \", detections[0])\n",
    "            answer = input(\"Do you agree with this predicted anomaly? y or n: \")\n",
    "            print(\"Your Answer: \", answer)\n",
    "        else:\n",
    "            answer = \"n\"\n",
    "            for gt in gts:\n",
    "                if abs(detections[0]-gt) < acceptance_range:\n",
    "                    answer = \"y\"\n",
    "                    break\n",
    "        if answer == \"n\":\n",
    "            if detections[0] - int(ts_affected/2) > 0:\n",
    "                # create the query for mass by creating a subsequence around this \n",
    "                # detection of size ts_affected\n",
    "                # the detection is in the CENTER of the subsequence\n",
    "                query = ts[detections[0] - int(ts_affected/2):detections[0] + int(ts_affected/2)]\n",
    "                if len(query) < ts_affected:\n",
    "                    query = ts[detections[0] - int(ts_affected/2):detections[0] + int(ts_affected/2) + 1]\n",
    "                # now use mass\n",
    "                indices, dists = mts.mass2_batch(ts, query, batch_size=ts_affected,top_matches=top_j,n_jobs=4)\n",
    "                # get max distance to use for determining weights\n",
    "                top_discords = mts.top_k_discords(dists, k=2, exclusion_zone=25)\n",
    "                a = np.array(ts[top_discords[0]:top_discords[0]+len(query)])\n",
    "                query_np = np.array(query)\n",
    "                # use 2 norm\n",
    "                max_dist = np.linalg.norm(a-query_np)\n",
    "                b = math.log((1-min_weight)/min_weight)\n",
    "                k = (math.log(.0001)-b)/-max_dist\n",
    "                for l in range(len(indices)):\n",
    "                    starting_index = indices[l]\n",
    "                    if (starting_index <= detections[0]) and (detections[0] <= starting_index + ts_affected):\n",
    "                        continue\n",
    "                    else:\n",
    "                        subseq_distance = float(dists[l])\n",
    "                        for i in range(starting_index, starting_index + ts_affected):\n",
    "                            anomaly_scores[i] = anomaly_scores[i] * disagree_weight(subseq_distance, k, b)                   \n",
    "            # if the detection is either too early or too late in the timeseries to form a full subsequence\n",
    "            # skip this step\n",
    "            else:\n",
    "                pass\n",
    "        else:\n",
    "            print(\"Yes!\")\n",
    "            print(detections[0])\n",
    "        # update detections\n",
    "        new_detections = []\n",
    "        for k in range(detections[0] + 1,len(anomaly_scores)):\n",
    "            if anomaly_scores[k] >= threshold:\n",
    "                new_detections.append(k)\n",
    "        detections = new_detections\n",
    "        if not detections:\n",
    "            break\n",
    "        if len(anomaly_scores) - detections[0] < ts_affected:\n",
    "            break\n",
    "    return reduced_detections"
   ]
  },
  {
   "cell_type": "code",
   "execution_count": 22,
   "metadata": {},
   "outputs": [
    {
     "name": "stdout",
     "output_type": "stream",
     "text": [
      "Yes!\n",
      "4104\n",
      "Yes!\n",
      "6788\n"
     ]
    }
   ],
   "source": [
    "anomaly_scores = joblib.load(\"data/anomaly_scores\")[\"Anomaly Scores\"]\n",
    "\n",
    "reduced_detections = hitl_anomaly(list(dataset[\"value\"]),predictions, anomaly_scores, threshold, int(.02 * len(anomaly_scores)), 3, .95, 25,[4124,6801])"
   ]
  },
  {
   "cell_type": "code",
   "execution_count": 23,
   "metadata": {},
   "outputs": [
    {
     "data": {
      "text/plain": [
       "8"
      ]
     },
     "execution_count": 23,
     "metadata": {},
     "output_type": "execute_result"
    }
   ],
   "source": [
    "len(reduced_detections)"
   ]
  },
  {
   "cell_type": "code",
   "execution_count": 24,
   "metadata": {},
   "outputs": [],
   "source": [
    "reduced_detections_y_values = []\n",
    "for prediction in reduced_detections:\n",
    "    reduced_detections_y_values.append(dataset[\"value\"].values[prediction])"
   ]
  },
  {
   "cell_type": "code",
   "execution_count": 25,
   "metadata": {},
   "outputs": [
    {
     "data": {
      "image/png": "[encoded data removed]",
      "text/plain": [
       "<Figure size 432x288 with 1 Axes>"
      ]
     },
     "metadata": {
      "needs_background": "light"
     },
     "output_type": "display_data"
    }
   ],
   "source": [
    "plt.plot(dataset[\"value\"], color=\"blue\", alpha=1, label=\"Time Series\")\n",
    "plt.scatter(outlier_dataset[\"timestep\"],outlier_dataset[\"value\"], color=\"red\", marker=\"X\", alpha=.5, s=100, zorder=200, label=\"Ground Truths\")\n",
    "plt.scatter(reduced_detections, reduced_detections_y_values, color=\"yellow\", edgecolor='black', alpha=1, zorder=100, label=\"Concept 1,2 Predictions\")\n",
    "plt.legend()\n",
    "plt.show()"
   ]
  }
 ],
 "metadata": {
  "kernelspec": {
   "display_name": "Python 3",
   "language": "python",
   "name": "python3"
  },
  "language_info": {
   "codemirror_mode": {
    "name": "ipython",
    "version": 3
   },
   "file_extension": ".py",
   "mimetype": "text/x-python",
   "name": "python",
   "nbconvert_exporter": "python",
   "pygments_lexer": "ipython3",
   "version": "3.6.9"
  }
 },
 "nbformat": 4,
 "nbformat_minor": 4
}
